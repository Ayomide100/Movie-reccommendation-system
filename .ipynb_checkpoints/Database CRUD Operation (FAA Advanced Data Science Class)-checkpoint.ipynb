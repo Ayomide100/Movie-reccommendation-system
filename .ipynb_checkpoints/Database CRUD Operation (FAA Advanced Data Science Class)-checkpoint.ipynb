{
 "cells": [
  {
   "cell_type": "markdown",
   "metadata": {},
   "source": [
    "## Advanced data science database class at Future Academy Africa (FAA) part 2."
   ]
  },
  {
   "cell_type": "code",
   "execution_count": 1,
   "metadata": {},
   "outputs": [],
   "source": [
    "%matplotlib inline"
   ]
  },
  {
   "cell_type": "code",
   "execution_count": 2,
   "metadata": {},
   "outputs": [],
   "source": [
    "import sqlite3 as sql"
   ]
  },
  {
   "cell_type": "code",
   "execution_count": 3,
   "metadata": {
    "scrolled": true
   },
   "outputs": [
    {
     "name": "stdout",
     "output_type": "stream",
     "text": [
      "database connected successfully 👍\n"
     ]
    }
   ],
   "source": [
    "connect = sql.connect('test.db')\n",
    "print('database connected successfully 👍')"
   ]
  },
  {
   "cell_type": "markdown",
   "metadata": {},
   "source": [
    "### iNSERT OPERATION"
   ]
  },
  {
   "cell_type": "code",
   "execution_count": 4,
   "metadata": {},
   "outputs": [
    {
     "name": "stdout",
     "output_type": "stream",
     "text": [
      "Values inserted into the movie recommendation table\n"
     ]
    }
   ],
   "source": [
    "#Insert into table, followed by the table column names, values keyword to start adding the value\n",
    "connect.execute(\"INSERT INTO MOVIERECOMMENDATION (ID, NAME, MOVIENAME, GENRE, RATING, DATERELEASED) \\\n",
    "                VALUES(1, 'Toliat Yahaya', 'Anikulapo', 'Drama',3, '02/09/2022')\");\n",
    "connect.execute(\"INSERT INTO MOVIERECOMMENDATION (ID, NAME, MOVIENAME, GENRE, RATING, DATERELEASED) \\\n",
    "                VALUES(2, 'Moyato', 'Gun girl', 'Thriller',4, '02/09/2021')\");\n",
    "connect.execute(\"INSERT INTO MOVIERECOMMENDATION (ID, NAME, MOVIENAME, GENRE, RATING, DATERELEASED) \\\n",
    "                VALUES(3, 'Oyedola Elijah', 'Thor', 'Action',4, '02/06/2022')\");\n",
    "connect.execute(\"INSERT INTO MOVIERECOMMENDATION (ID, NAME, MOVIENAME, GENRE, RATING, DATERELEASED) \\\n",
    "                VALUES(4, 'Paul Adelola', 'The lost city', 'Comedy',5, '01/08/2020')\");\n",
    "connect.commit()\n",
    "print('Values inserted into the movie recommendation table')\n",
    "# connect.close()"
   ]
  },
  {
   "cell_type": "markdown",
   "metadata": {},
   "source": [
    "### SELECT OPERATION"
   ]
  },
  {
   "cell_type": "code",
   "execution_count": 34,
   "metadata": {},
   "outputs": [],
   "source": [
    "# SELECT COLOUMN_NAME FROM TABLE_NAME\n",
    "GETALLVALUES = connect.execute(\"SELECT * FROM MOVIERECOMMENDATION\")"
   ]
  },
  {
   "cell_type": "code",
   "execution_count": 35,
   "metadata": {},
   "outputs": [
    {
     "data": {
      "text/plain": [
       "[(1, 'Toliat Yahaya', 'Anikulapo', 'Drama', 3, '02/09/2022'),\n",
       " (2, 'Moyato', 'Gun girl', 'Thriller', 4, '02/09/2021'),\n",
       " (3, 'Oyedola Elijah', 'Thor', 'Action', 4, '02/06/2022'),\n",
       " (4, 'Paul Adelola', 'The lost city', 'Comedy', 5, '01/08/2020')]"
      ]
     },
     "execution_count": 35,
     "metadata": {},
     "output_type": "execute_result"
    }
   ],
   "source": [
    "GETALLVALUES.fetchall()"
   ]
  },
  {
   "cell_type": "code",
   "execution_count": 7,
   "metadata": {},
   "outputs": [],
   "source": [
    "# for val in GETALLVALUES.fetchall():\n",
    "#     print(val)"
   ]
  },
  {
   "cell_type": "code",
   "execution_count": 28,
   "metadata": {},
   "outputs": [],
   "source": [
    "# SELECT COLOUMN_NAME FROM TABLE_NAME\n",
    "GETRATINGSGREATERTHANTHREE = connect.execute(\"SELECT MOVIENAME, GENRE, DATERELEASED FROM MOVIERECOMMENDATION WHERE RATING > 3\")"
   ]
  },
  {
   "cell_type": "code",
   "execution_count": 29,
   "metadata": {},
   "outputs": [
    {
     "data": {
      "text/plain": [
       "[('Gun girl', 'Thriller', '02/09/2021'),\n",
       " ('Thor', 'Action', '02/06/2022'),\n",
       " ('The lost city', 'Comedy', '01/08/2020')]"
      ]
     },
     "execution_count": 29,
     "metadata": {},
     "output_type": "execute_result"
    }
   ],
   "source": [
    "GETRATINGSGREATERTHANTHREE.fetchall()"
   ]
  },
  {
   "cell_type": "code",
   "execution_count": 36,
   "metadata": {},
   "outputs": [],
   "source": [
    "# SELECT COLOUMN_NAME FROM TABLE_NAME\n",
    "GETPAUL = connect.execute(\"SELECT * FROM MOVIERECOMMENDATION WHERE NAME ='Paul Adelola' \")"
   ]
  },
  {
   "cell_type": "code",
   "execution_count": 37,
   "metadata": {},
   "outputs": [
    {
     "data": {
      "text/plain": [
       "[(4, 'Paul Adelola', 'The lost city', 'Comedy', 5, '01/08/2020')]"
      ]
     },
     "execution_count": 37,
     "metadata": {},
     "output_type": "execute_result"
    }
   ],
   "source": [
    "GETPAUL.fetchall()"
   ]
  },
  {
   "cell_type": "markdown",
   "metadata": {},
   "source": [
    "### Update Operation"
   ]
  },
  {
   "cell_type": "code",
   "execution_count": 41,
   "metadata": {},
   "outputs": [],
   "source": [
    "# UPDATE TABLE SET COLOUMN_NAME = VALUE\n",
    "UPDATEANIKULAPORATING = connect.execute(\"UPDATE MOVIERECOMMENDATION SET RATING = 4 WHERE  ID = 1\")"
   ]
  },
  {
   "cell_type": "code",
   "execution_count": 42,
   "metadata": {},
   "outputs": [
    {
     "data": {
      "text/plain": [
       "[]"
      ]
     },
     "execution_count": 42,
     "metadata": {},
     "output_type": "execute_result"
    }
   ],
   "source": [
    "UPDATEANIKULAPORATING.fetchall()"
   ]
  },
  {
   "cell_type": "code",
   "execution_count": 43,
   "metadata": {},
   "outputs": [],
   "source": [
    "# SELECT COLOUMN_NAME FROM TABLE_NAME\n",
    "GETALLVALUES = connect.execute(\"SELECT * FROM MOVIERECOMMENDATION\")"
   ]
  },
  {
   "cell_type": "code",
   "execution_count": 44,
   "metadata": {},
   "outputs": [
    {
     "data": {
      "text/plain": [
       "[(1, 'Toliat Yahaya', 'Anikulapo', 'Drama', 4, '02/09/2022'),\n",
       " (2, 'Moyato', 'Gun girl', 'Thriller', 4, '02/09/2021'),\n",
       " (3, 'Oyedola Elijah', 'Thor', 'Action', 4, '02/06/2022'),\n",
       " (4, 'Paul Adelola', 'The lost city', 'Comedy', 5, '01/08/2020')]"
      ]
     },
     "execution_count": 44,
     "metadata": {},
     "output_type": "execute_result"
    }
   ],
   "source": [
    "GETALLVALUES.fetchall()"
   ]
  },
  {
   "cell_type": "markdown",
   "metadata": {},
   "source": [
    "### DELETE OPERATION"
   ]
  },
  {
   "cell_type": "code",
   "execution_count": 45,
   "metadata": {},
   "outputs": [],
   "source": [
    "# DELETE FROM TABLE_NAME WHERE COLUMN_NAME MATCHES OPERATION\n",
    "INSERTANEWROW= connect.execute(\"SELECT * FROM MOVIERECOMMENDATION\")\n",
    "connect.execute(\"INSERT INTO MOVIERECOMMENDATION (ID, NAME, MOVIENAME, GENRE, RATING, DATERELEASED) \\\n",
    "                VALUES(7, 'Anonymous', 'Shaolin Soccer', 'Sport',3, '02/09/2012')\");"
   ]
  },
  {
   "cell_type": "code",
   "execution_count": 46,
   "metadata": {},
   "outputs": [
    {
     "data": {
      "text/plain": [
       "[(1, 'Toliat Yahaya', 'Anikulapo', 'Drama', 4, '02/09/2022'),\n",
       " (2, 'Moyato', 'Gun girl', 'Thriller', 4, '02/09/2021'),\n",
       " (3, 'Oyedola Elijah', 'Thor', 'Action', 4, '02/06/2022'),\n",
       " (4, 'Paul Adelola', 'The lost city', 'Comedy', 5, '01/08/2020'),\n",
       " (7, 'Anonymous', 'Shaolin Soccer', 'Sport', 3, '02/09/2012')]"
      ]
     },
     "execution_count": 46,
     "metadata": {},
     "output_type": "execute_result"
    }
   ],
   "source": [
    "connect.execute(\"SELECT * FROM MOVIERECOMMENDATION\").fetchall()"
   ]
  },
  {
   "cell_type": "code",
   "execution_count": 48,
   "metadata": {},
   "outputs": [
    {
     "name": "stdout",
     "output_type": "stream",
     "text": [
      "Row with id=7 has been deleted\n"
     ]
    }
   ],
   "source": [
    "DELETEANONYMOUS = connect.execute(\"DELETE FROM MOVIERECOMMENDATION WHERE ID=7  \").fetchall()\n",
    "print(\"Row with id=7 has been deleted\")"
   ]
  },
  {
   "cell_type": "code",
   "execution_count": 50,
   "metadata": {},
   "outputs": [
    {
     "data": {
      "text/plain": [
       "[(1, 'Toliat Yahaya', 'Anikulapo', 'Drama', 4, '02/09/2022'),\n",
       " (2, 'Moyato', 'Gun girl', 'Thriller', 4, '02/09/2021'),\n",
       " (3, 'Oyedola Elijah', 'Thor', 'Action', 4, '02/06/2022'),\n",
       " (4, 'Paul Adelola', 'The lost city', 'Comedy', 5, '01/08/2020')]"
      ]
     },
     "execution_count": 50,
     "metadata": {},
     "output_type": "execute_result"
    }
   ],
   "source": [
    "connect.execute(\"SELECT * FROM MOVIERECOMMENDATION\").fetchall()"
   ]
  },
  {
   "cell_type": "code",
   "execution_count": null,
   "metadata": {},
   "outputs": [],
   "source": []
  }
 ],
 "metadata": {
  "kernelspec": {
   "display_name": "Python 3",
   "language": "python",
   "name": "python3"
  },
  "language_info": {
   "codemirror_mode": {
    "name": "ipython",
    "version": 3
   },
   "file_extension": ".py",
   "mimetype": "text/x-python",
   "name": "python",
   "nbconvert_exporter": "python",
   "pygments_lexer": "ipython3",
   "version": "3.8.2"
  }
 },
 "nbformat": 4,
 "nbformat_minor": 4
}
